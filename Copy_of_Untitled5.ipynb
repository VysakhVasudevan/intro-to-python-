{
  "nbformat": 4,
  "nbformat_minor": 0,
  "metadata": {
    "colab": {
      "provenance": [],
      "authorship_tag": "ABX9TyPrf+7PcaH5EK2UNoIXqBJN",
      "include_colab_link": true
    },
    "kernelspec": {
      "name": "python3",
      "display_name": "Python 3"
    },
    "language_info": {
      "name": "python"
    }
  },
  "cells": [
    {
      "cell_type": "markdown",
      "metadata": {
        "id": "view-in-github",
        "colab_type": "text"
      },
      "source": [
        "<a href=\"https://colab.research.google.com/github/VysakhVasudevan/intro-to-python-/blob/main/Copy_of_Untitled5.ipynb\" target=\"_parent\"><img src=\"https://colab.research.google.com/assets/colab-badge.svg\" alt=\"Open In Colab\"/></a>"
      ]
    },
    {
      "cell_type": "code",
      "execution_count": null,
      "metadata": {
        "colab": {
          "base_uri": "https://localhost:8080/"
        },
        "id": "WEAF-biJvPMH",
        "outputId": "1c1c4765-4895-4ad8-f3f1-fe52f3d7f25a"
      },
      "outputs": [
        {
          "output_type": "stream",
          "name": "stdout",
          "text": [
            "Fifa World Cup 2022\n"
          ]
        }
      ],
      "source": [
        "def fun_name ():\n",
        "  print(\"Fifa World Cup 2022\")\n",
        "fun_name ()"
      ]
    },
    {
      "cell_type": "code",
      "source": [
        "def fun_name ():\n",
        "  x=input(\"Enter Your First name:\")\n",
        "  y=input(\"Enter Your Second name:\")\n",
        "  z=input(\"Enter Your third name:\")\n",
        "  print(x,y,z)\n",
        "fun_name ()"
      ],
      "metadata": {
        "colab": {
          "base_uri": "https://localhost:8080/"
        },
        "id": "PtoeLeCQvZzT",
        "outputId": "c8d4d3ed-9e93-4d28-a7a8-8c1c599e7557"
      },
      "execution_count": null,
      "outputs": [
        {
          "output_type": "stream",
          "name": "stdout",
          "text": [
            "Enter Your First name:Vysakh\n",
            "Enter Your Second name:Chirayil\n",
            "Enter Your third name:Vasudevan\n",
            "Vysakh Chirayil Vasudevan\n"
          ]
        }
      ]
    },
    {
      "cell_type": "code",
      "source": [
        "def fun_name ():\n",
        "  x=input(\"Enter Your Last name:\")\n",
        "  y=input(\"Enter Your middle name:\")\n",
        "  z=input(\"Enter Your first name:\")\n",
        "  print(x,y,z)\n",
        "fun_name ()"
      ],
      "metadata": {
        "colab": {
          "base_uri": "https://localhost:8080/"
        },
        "id": "CenRKz5LxZAg",
        "outputId": "3ac34881-e563-4dff-eb12-805b302a3ac7"
      },
      "execution_count": null,
      "outputs": [
        {
          "output_type": "stream",
          "name": "stdout",
          "text": [
            "Enter Your Last name:Vasudevan\n",
            "Enter Your middle name:Chirayil\n",
            "Enter Your first name:Vysakh\n",
            "Vasudevan Chirayil Vysakh\n"
          ]
        }
      ]
    },
    {
      "cell_type": "code",
      "source": [
        "def fun_name ():\n",
        "  x=input(\"Enter Your Second Favorite Football Player:\")\n",
        "  print(x)\n",
        "fun_name ()"
      ],
      "metadata": {
        "colab": {
          "base_uri": "https://localhost:8080/"
        },
        "id": "-7ppLsIuzIBC",
        "outputId": "45ea513b-0610-4863-e5ab-b8bd78a123b8"
      },
      "execution_count": null,
      "outputs": [
        {
          "output_type": "stream",
          "name": "stdout",
          "text": [
            "Enter Your Second Favorite Football Player:Erling\n",
            "Erling\n"
          ]
        }
      ]
    },
    {
      "cell_type": "code",
      "source": [
        "def fun_name (country = \"Norway\"):\n",
        "   print(\"I am from \" + country)\n",
        "\n",
        "fun_name (\"Sweden\")\n",
        "fun_name (\"India\")\n",
        "fun_name ()\n",
        "fun_name (\"Brazil\")"
      ],
      "metadata": {
        "colab": {
          "base_uri": "https://localhost:8080/"
        },
        "id": "a76BlpF10K_Z",
        "outputId": "80f660ce-9af8-4371-d02a-0a32ba90f45c"
      },
      "execution_count": null,
      "outputs": [
        {
          "output_type": "stream",
          "name": "stdout",
          "text": [
            "I am from Sweden\n",
            "I am from India\n",
            "I am from Norway\n",
            "I am from Brazil\n"
          ]
        }
      ]
    },
    {
      "cell_type": "code",
      "source": [
        "def fact (n):\n",
        "  if n<=1:\n",
        "    return n\n",
        "  else:\n",
        "    return(fact(n-1) * n)\n",
        "print(fact(10))\n"
      ],
      "metadata": {
        "id": "yYwZ5ZiH154m",
        "colab": {
          "base_uri": "https://localhost:8080/"
        },
        "outputId": "da884185-9248-4506-8895-fd9c3fa9dd40"
      },
      "execution_count": 1,
      "outputs": [
        {
          "output_type": "stream",
          "name": "stdout",
          "text": [
            "3628800\n"
          ]
        }
      ]
    },
    {
      "cell_type": "code",
      "source": [],
      "metadata": {
        "id": "ULEd3Oox6p6F"
      },
      "execution_count": null,
      "outputs": []
    }
  ]
}