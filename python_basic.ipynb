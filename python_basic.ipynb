{
  "nbformat": 4,
  "nbformat_minor": 0,
  "metadata": {
    "colab": {
      "provenance": [],
      "authorship_tag": "ABX9TyMIv1P8arj54rh8SBE/fN33",
      "include_colab_link": true
    },
    "kernelspec": {
      "name": "python3",
      "display_name": "Python 3"
    },
    "language_info": {
      "name": "python"
    }
  },
  "cells": [
    {
      "cell_type": "markdown",
      "metadata": {
        "id": "view-in-github",
        "colab_type": "text"
      },
      "source": [
        "<a href=\"https://colab.research.google.com/github/VysakhVasudevan/intro-to-python-/blob/main/python_basic.ipynb\" target=\"_parent\"><img src=\"https://colab.research.google.com/assets/colab-badge.svg\" alt=\"Open In Colab\"/></a>"
      ]
    },
    {
      "cell_type": "code",
      "execution_count": null,
      "metadata": {
        "colab": {
          "base_uri": "https://localhost:8080/"
        },
        "id": "uS1C1ZOooiFZ",
        "outputId": "11fdaedd-f2e4-456c-9ac8-a8c630702a88"
      },
      "outputs": [
        {
          "output_type": "stream",
          "name": "stdout",
          "text": [
            "Passengers Travel Source:Train\n",
            "Travel Destination:Bombay\n",
            "Number of Passengers:12\n",
            "Train Bombay 12\n"
          ]
        }
      ],
      "source": [
        "x=input(\"Passengers Travel Source:\")\n",
        "y=input(\"Travel Destination:\")\n",
        "z=int(input(\"Number of Passengers:\"))\n",
        "print(x,y,z)"
      ]
    },
    {
      "cell_type": "code",
      "source": [
        "x=int(input(\"Total Ticket Fare:\"))\n",
        "y=int(input(\"Number of Passengers:\"))\n",
        "Ticket price = print(x/y)\n"
      ],
      "metadata": {
        "colab": {
          "base_uri": "https://localhost:8080/"
        },
        "id": "wAlxaHJCp-b3",
        "outputId": "3bc90086-72c7-43c4-b342-2aae22745f30"
      },
      "execution_count": null,
      "outputs": [
        {
          "output_type": "stream",
          "name": "stdout",
          "text": [
            "Total Ticket Fare:10000\n",
            "Number of Passengers:10\n",
            "1000.0\n"
          ]
        }
      ]
    },
    {
      "cell_type": "code",
      "source": [
        "x=input(\"Passengers Name:\")\n",
        "y=input(\"Ticket Fare:\")\n",
        "print(x,y)"
      ],
      "metadata": {
        "colab": {
          "base_uri": "https://localhost:8080/"
        },
        "id": "UEDOBBiHrz7K",
        "outputId": "f09d6eed-07cb-426a-f2c9-cb45e5aea577"
      },
      "execution_count": null,
      "outputs": [
        {
          "output_type": "stream",
          "name": "stdout",
          "text": [
            "Passengers Name:Jerril\n",
            "Ticket Fare:2000\n",
            "Jerril 2000\n"
          ]
        }
      ]
    },
    {
      "cell_type": "code",
      "source": [
        "x=int(input(\"Total Ticket Fare:\"))\n",
        "if x>10000:\n",
        "  print(\"Eligible for discount\")"
      ],
      "metadata": {
        "id": "fYa7LE6Osnb0",
        "colab": {
          "base_uri": "https://localhost:8080/"
        },
        "outputId": "af85eb49-fbfc-48c7-b580-4f80c6c43542"
      },
      "execution_count": null,
      "outputs": [
        {
          "output_type": "stream",
          "name": "stdout",
          "text": [
            "Total Ticket Fare:12000\n",
            "Eligible for discount\n"
          ]
        }
      ]
    },
    {
      "cell_type": "code",
      "source": [
        "x=int(input(\"Total Ticket fare:\"))\n",
        "if x>15000:\n",
        "  print(\"Eligible for 20% discount\")\n",
        "else:\n",
        "  print(\"Eligible for 10% discount\")"
      ],
      "metadata": {
        "colab": {
          "base_uri": "https://localhost:8080/"
        },
        "id": "t9CbwdQvt6OB",
        "outputId": "8f90abaa-99b8-4758-b413-c2c715220d08"
      },
      "execution_count": null,
      "outputs": [
        {
          "output_type": "stream",
          "name": "stdout",
          "text": [
            "Total Ticket fare:20000\n",
            "Eligible for 20% discount\n"
          ]
        }
      ]
    },
    {
      "cell_type": "code",
      "source": [
        "x=int(input(\"Total Ticket fare:\"))\n",
        "if x>15000:\n",
        "  print(\"Eligible for 20% discount\")\n",
        "  print(x*20/100)\n",
        "if x>10000 and x<15000:\n",
        "  print(\"Eligible for 10% discount\")\n",
        "  print(x*10/100)\n",
        "if x<10000:\n",
        "  print(\"Eligible for 5% discount\")\n",
        "  print(x*5/100)"
      ],
      "metadata": {
        "colab": {
          "base_uri": "https://localhost:8080/"
        },
        "id": "vQguwBiyvQI-",
        "outputId": "bd7428c0-8ffa-4bd3-93f3-b0925d911eee"
      },
      "execution_count": null,
      "outputs": [
        {
          "output_type": "stream",
          "name": "stdout",
          "text": [
            "Total Ticket fare:30000\n",
            "Eligible for 20% discount\n",
            "6000.0\n"
          ]
        }
      ]
    },
    {
      "cell_type": "code",
      "source": [
        "x=int(input(\"Enter A Number:\"))\n",
        "if x>0 :\n",
        "  print(\"positive\")\n",
        "if x<0 :\n",
        "  print(\"negative\")\n",
        "if x==0 :\n",
        "  print(\"is zero\")"
      ],
      "metadata": {
        "colab": {
          "base_uri": "https://localhost:8080/"
        },
        "id": "cDLfirjxvlgU",
        "outputId": "0e286725-9a27-4b8a-d6bd-0aea2a477926"
      },
      "execution_count": null,
      "outputs": [
        {
          "output_type": "stream",
          "name": "stdout",
          "text": [
            "Enter A Number:12\n",
            "positive\n"
          ]
        }
      ]
    },
    {
      "cell_type": "code",
      "source": [
        "x=int(input (\"Age:\"))\n",
        "if x>18 :\n",
        "  print(\"Adult\")\n",
        "if x>12 and x<20 :\n",
        "  print(\"Teenager\")\n",
        "if x>5 and x<13 :\n",
        "  print(\"Kid\")\n",
        "if x>1 and x<6 :\n",
        "  print(\"Toddler\")\n",
        "if x<2 :\n",
        "  print(\"Infant\")"
      ],
      "metadata": {
        "colab": {
          "base_uri": "https://localhost:8080/"
        },
        "id": "yiaze4PPy-qe",
        "outputId": "febed5cb-b4aa-4044-c28d-c2bb1d090836"
      },
      "execution_count": null,
      "outputs": [
        {
          "output_type": "stream",
          "name": "stdout",
          "text": [
            "Age:13\n",
            "Teenager\n"
          ]
        }
      ]
    },
    {
      "cell_type": "code",
      "source": [
        "x=input(\"Passengers Initial:\")\n",
        "if x==\"A\":\n",
        " print(\"Vowel\")\n",
        "elif x==\"E\":\n",
        " print(\"Vowel\")\n",
        "elif x==\"I\":\n",
        " print(\"Vowel\")\n",
        "elif x==\"O\":\n",
        " print(\"Vowel\")\n",
        "elif x==\"U\":\n",
        " print(\"Vowel\")\n",
        "else:\n",
        " print(\"Not Vowel\")"
      ],
      "metadata": {
        "colab": {
          "base_uri": "https://localhost:8080/"
        },
        "id": "cLJmDeGk0nBO",
        "outputId": "644a9107-7cdd-4569-a0bb-87944d88be08"
      },
      "execution_count": null,
      "outputs": [
        {
          "output_type": "stream",
          "name": "stdout",
          "text": [
            "Passengers Initial:N\n",
            "Not Vowel\n"
          ]
        }
      ]
    },
    {
      "cell_type": "code",
      "source": [
        "x=input(\"Enter Your Name:\")\n",
        "for a in x:\n",
        "  print(a)"
      ],
      "metadata": {
        "colab": {
          "base_uri": "https://localhost:8080/"
        },
        "id": "RD1s4g4V1qMk",
        "outputId": "22f36e6e-e89b-4905-fe2c-e029be8bd194"
      },
      "execution_count": null,
      "outputs": [
        {
          "output_type": "stream",
          "name": "stdout",
          "text": [
            "Enter Your Name:Aaron\n",
            "A\n",
            "a\n",
            "r\n",
            "o\n",
            "n\n"
          ]
        }
      ]
    },
    {
      "cell_type": "code",
      "source": [
        "x=int(input(\"Enter Number:\"))\n",
        "for a in range(44,88):\n",
        "  print(a)"
      ],
      "metadata": {
        "colab": {
          "base_uri": "https://localhost:8080/"
        },
        "id": "mo3nr-Lz5ju-",
        "outputId": "dbaeb651-cce2-4fde-bc18-1d27fda825ff"
      },
      "execution_count": null,
      "outputs": [
        {
          "output_type": "stream",
          "name": "stdout",
          "text": [
            "Enter Number:44\n",
            "44\n",
            "45\n",
            "46\n",
            "47\n",
            "48\n",
            "49\n",
            "50\n",
            "51\n",
            "52\n",
            "53\n",
            "54\n",
            "55\n",
            "56\n",
            "57\n",
            "58\n",
            "59\n",
            "60\n",
            "61\n",
            "62\n",
            "63\n",
            "64\n",
            "65\n",
            "66\n",
            "67\n",
            "68\n",
            "69\n",
            "70\n",
            "71\n",
            "72\n",
            "73\n",
            "74\n",
            "75\n",
            "76\n",
            "77\n",
            "78\n",
            "79\n",
            "80\n",
            "81\n",
            "82\n",
            "83\n",
            "84\n",
            "85\n",
            "86\n",
            "87\n"
          ]
        }
      ]
    },
    {
      "cell_type": "code",
      "source": [
        "\n",
        "x=0\n",
        "for a in range(1,6):\n",
        "  x=x+a\n",
        "  print(a,x)\n"
      ],
      "metadata": {
        "colab": {
          "base_uri": "https://localhost:8080/"
        },
        "id": "fHX9-lEY6FfE",
        "outputId": "ef4472e2-5094-40f9-acf9-d75c06e794d9"
      },
      "execution_count": null,
      "outputs": [
        {
          "output_type": "stream",
          "name": "stdout",
          "text": [
            "1 1\n",
            "2 3\n",
            "3 6\n",
            "4 10\n",
            "5 15\n"
          ]
        }
      ]
    },
    {
      "cell_type": "code",
      "source": [
        "x=int(input(\"Enter a Number:\"))\n",
        "if x<0:\n",
        "  print(\"absolute value of\", x , \"is\" , x*-1)\n",
        "else:\n",
        "  print(\"absolute value of\" , x , \"is\", x)\n"
      ],
      "metadata": {
        "id": "pf2LF72b_Unj",
        "colab": {
          "base_uri": "https://localhost:8080/"
        },
        "outputId": "545b2af1-1877-49a1-bb6d-86178e5a4dd1"
      },
      "execution_count": null,
      "outputs": [
        {
          "output_type": "stream",
          "name": "stdout",
          "text": [
            "Enter a Number:-9\n",
            "absolute value of -9 is 9\n"
          ]
        }
      ]
    },
    {
      "cell_type": "code",
      "source": [
        "x=int(input(\"Enter a Number:\"))\n",
        "if x<25:\n",
        "  print(\"F Grade\")\n",
        "elif x>25 and x<45:\n",
        "  print(\"E Grade\")\n",
        "elif x>45 and x<50:\n",
        "  print(\"D Grade\")\n",
        "elif x>50 and x<60:\n",
        "  print(\"C Grade\")\n",
        "elif x>60 and x<80:\n",
        "  print(\"B Grade\")\n",
        "elif x>80:\n",
        "  print(\"A Grade\")"
      ],
      "metadata": {
        "colab": {
          "base_uri": "https://localhost:8080/"
        },
        "id": "Arq2yU4SjwSJ",
        "outputId": "de8b80a4-ef3b-4712-db9f-a56efb228af8"
      },
      "execution_count": null,
      "outputs": [
        {
          "output_type": "stream",
          "name": "stdout",
          "text": [
            "Enter a Number:78\n",
            "B Grade\n"
          ]
        }
      ]
    },
    {
      "cell_type": "code",
      "source": [
        "x=int(input(\"Number of Classes held:\"))\n",
        "y=int(input(\"Number of classes attended:\"))\n",
        "z=(y/x*100)\n",
        "print(z)\n",
        "if z<75 :\n",
        "  print(\"Student not Allowed into the class\")\n",
        "else:\n",
        "  print(\"Student allowed into the Class\" )"
      ],
      "metadata": {
        "colab": {
          "base_uri": "https://localhost:8080/"
        },
        "id": "jAWAL2RWn_Z2",
        "outputId": "3e7f0262-c661-4aec-dfc4-6905ca0d271b"
      },
      "execution_count": null,
      "outputs": [
        {
          "output_type": "stream",
          "name": "stdout",
          "text": [
            "Number of Classes held:100\n",
            "Number of classes attended:70\n",
            "70.0\n",
            "Student not Allowed into the class\n"
          ]
        }
      ]
    },
    {
      "cell_type": "code",
      "source": [
        "print(' 1. Addition \\n 2. Subtraction \\n 3. Multiplication \\n 4. Division \\n 5. Modulus \\n 6. Floor Division \\n 7. Exponent')\n",
        "x=int(input('Enter the operaton to be performed '))\n",
        "y=int(input('Enter the first number '))\n",
        "z=int(input('Enter the second number '))\n",
        "if x==1:\n",
        "  add=y+z\n",
        "  print('Addition:',add)\n",
        "elif x==2:\n",
        "  sub=y-z\n",
        "  print('Subtraction:',sub)\n",
        "elif x==3:\n",
        "  mul=y*z\n",
        "  print('Multiplication:',mul)\n",
        "elif x==4:\n",
        "  div=y/z\n",
        "  print('Division:',div)\n",
        "elif x==5:\n",
        "  mod=y%z\n",
        "  print('Modulus:',mod)\n",
        "elif x==6:\n",
        "  flr=y//z\n",
        "  print('Floor Division:',flr)\n",
        "elif x==7:\n",
        "  exp=y**z\n",
        "  print('Exponent:',exp)"
      ],
      "metadata": {
        "colab": {
          "base_uri": "https://localhost:8080/"
        },
        "id": "GkClzHWUqcXj",
        "outputId": "17d6648f-cc72-4111-858d-2e89e11a2f24"
      },
      "execution_count": null,
      "outputs": [
        {
          "output_type": "stream",
          "name": "stdout",
          "text": [
            " 1. Addition \n",
            " 2. Subtraction \n",
            " 3. Multiplication \n",
            " 4. Division \n",
            " 5. Modulus \n",
            " 6. Floor Division \n",
            " 7. Exponent\n",
            "Enter the operaton to be performed 3\n",
            "Enter the first number 4\n",
            "Enter the second number 6\n",
            "Multiplication: 24\n"
          ]
        }
      ]
    },
    {
      "cell_type": "code",
      "source": [
        "import statistics\n",
        "a=int(input('Enter marks of first subject '))\n",
        "b=int(input('Enter marks of second subject '))\n",
        "c=int(input('Enter marks of third subject '))\n",
        "d=int(input('Enter marks of fourth subject '))\n",
        "e=int(input('Enter marks of fifth subject '))\n",
        "m=a,b,c,d,e\n",
        "print('Least marks:',min(a,b,c,d,e))\n",
        "print('Maximum marks:',max(a,b,c,d,e))\n",
        "print('Average marks:',statistics.mean(m))\n",
        "print('Round off marks',round(statistics.mean(m),2))\n"
      ],
      "metadata": {
        "colab": {
          "base_uri": "https://localhost:8080/"
        },
        "id": "W7BTM1cGwriu",
        "outputId": "6b3d2d7f-b680-46c2-a945-98aac3337461"
      },
      "execution_count": null,
      "outputs": [
        {
          "output_type": "stream",
          "name": "stdout",
          "text": [
            "Enter marks of first subject 7\n",
            "Enter marks of second subject 4\n",
            "Enter marks of third subject 8\n",
            "Enter marks of fourth subject 2\n",
            "Enter marks of fifth subject 7\n",
            "Least marks: 2\n",
            "Maximum marks: 8\n",
            "Average marks: 5.6\n",
            "Round off marks 5.6\n"
          ]
        }
      ]
    },
    {
      "cell_type": "code",
      "source": [
        "num= int(input(\"enter the number\"))\n",
        "for i in range(1,12):\n",
        "  print(i*num)"
      ],
      "metadata": {
        "id": "i6XL2VA44IoF",
        "colab": {
          "base_uri": "https://localhost:8080/"
        },
        "outputId": "7315464d-374e-412d-8c4a-bb3a2dffd2a7"
      },
      "execution_count": null,
      "outputs": [
        {
          "output_type": "stream",
          "name": "stdout",
          "text": [
            "enter the number3\n",
            "3\n",
            "6\n",
            "9\n",
            "12\n",
            "15\n",
            "18\n",
            "21\n",
            "24\n",
            "27\n",
            "30\n",
            "33\n"
          ]
        }
      ]
    },
    {
      "cell_type": "code",
      "source": [
        "num1=int(input(\"Enter the number\"))\n",
        "for i in range(1,11):\n",
        "  print(num1, \"*\" , i ,\"=\", i*num1 )"
      ],
      "metadata": {
        "colab": {
          "base_uri": "https://localhost:8080/"
        },
        "id": "zmPlcGzqt78g",
        "outputId": "e999dcf5-55f6-4845-9da3-22a6dcfb9471"
      },
      "execution_count": null,
      "outputs": [
        {
          "output_type": "stream",
          "name": "stdout",
          "text": [
            "Enter the number5\n",
            "5 * 1 = 5\n",
            "5 * 2 = 10\n",
            "5 * 3 = 15\n",
            "5 * 4 = 20\n",
            "5 * 5 = 25\n",
            "5 * 6 = 30\n",
            "5 * 7 = 35\n",
            "5 * 8 = 40\n",
            "5 * 9 = 45\n",
            "5 * 10 = 50\n"
          ]
        }
      ]
    },
    {
      "cell_type": "code",
      "source": [
        "num=int(input())\n",
        "i=1\n",
        "while(i<=10):\n",
        "  print(i*num)\n",
        "  i=i+1"
      ],
      "metadata": {
        "colab": {
          "base_uri": "https://localhost:8080/"
        },
        "id": "s0OjdMyFwU_4",
        "outputId": "bbe0250f-43a6-4f48-c48d-a166eb373168"
      },
      "execution_count": null,
      "outputs": [
        {
          "output_type": "stream",
          "name": "stdout",
          "text": [
            "5\n",
            "5\n",
            "10\n",
            "15\n",
            "20\n",
            "25\n",
            "30\n",
            "35\n",
            "40\n",
            "45\n",
            "50\n"
          ]
        }
      ]
    },
    {
      "cell_type": "code",
      "source": [
        "n1=input(\"Number\")\n",
        "d=0\n",
        "for i in n1:\n",
        "  #print(i)\n",
        "  d=d+1\n",
        "  print(d)"
      ],
      "metadata": {
        "colab": {
          "base_uri": "https://localhost:8080/"
        },
        "id": "0W-G8riHyKbe",
        "outputId": "6af91e3e-bf2f-412a-fb59-3d00daf29186"
      },
      "execution_count": null,
      "outputs": [
        {
          "output_type": "stream",
          "name": "stdout",
          "text": [
            "Number5657667\n",
            "1\n",
            "2\n",
            "3\n",
            "4\n",
            "5\n",
            "6\n",
            "7\n"
          ]
        }
      ]
    },
    {
      "cell_type": "code",
      "source": [
        "x=input(\"enter a word\")\n",
        "w= \"\"\n",
        "for i in x:  \n",
        "  w=i+w\n",
        "print(w)\n",
        "if x==w: \n",
        "  print('true')\n",
        "else:\n",
        "  print('false')"
      ],
      "metadata": {
        "colab": {
          "base_uri": "https://localhost:8080/"
        },
        "id": "CJW-3z1S2IjL",
        "outputId": "4ae91ee5-b628-4138-f508-b0339b792b29"
      },
      "execution_count": null,
      "outputs": [
        {
          "output_type": "stream",
          "name": "stdout",
          "text": [
            "enter a wordamma\n",
            "amma\n",
            "true\n"
          ]
        }
      ]
    },
    {
      "cell_type": "code",
      "source": [
        "name=input(\"Enter the name: \")\n",
        "if name.isupper():\n",
        "  print(name.lower())\n",
        "if name.islower():\n",
        "  print(name.upper())\n",
        "print(len(name))"
      ],
      "metadata": {
        "colab": {
          "base_uri": "https://localhost:8080/"
        },
        "id": "EUiaa6nm8gxi",
        "outputId": "44d6fc9d-217b-4ccc-a001-2740d66c4bab"
      },
      "execution_count": null,
      "outputs": [
        {
          "output_type": "stream",
          "name": "stdout",
          "text": [
            "Enter the name: renu\n",
            "RENU\n",
            "4\n"
          ]
        }
      ]
    },
    {
      "cell_type": "code",
      "source": [
        "x=1\n",
        "type(x)"
      ],
      "metadata": {
        "id": "3lomi4Ki_FVN",
        "colab": {
          "base_uri": "https://localhost:8080/"
        },
        "outputId": "730f225a-571a-4485-cb99-063f6fc31d20"
      },
      "execution_count": 3,
      "outputs": [
        {
          "output_type": "execute_result",
          "data": {
            "text/plain": [
              "int"
            ]
          },
          "metadata": {},
          "execution_count": 3
        }
      ]
    },
    {
      "cell_type": "code",
      "source": [
        "a=1.23\n",
        "type(a)"
      ],
      "metadata": {
        "colab": {
          "base_uri": "https://localhost:8080/"
        },
        "id": "FsHkpZ1H3r4a",
        "outputId": "9943a956-27b7-4f2e-846d-2d197263b9e2"
      },
      "execution_count": 4,
      "outputs": [
        {
          "output_type": "execute_result",
          "data": {
            "text/plain": [
              "float"
            ]
          },
          "metadata": {},
          "execution_count": 4
        }
      ]
    },
    {
      "cell_type": "code",
      "source": [
        "b=1+4j\n",
        "type(b)"
      ],
      "metadata": {
        "colab": {
          "base_uri": "https://localhost:8080/"
        },
        "id": "V-gqrywW5kgE",
        "outputId": "490b2c80-68e6-425e-f5b0-db3d1bb717de"
      },
      "execution_count": 6,
      "outputs": [
        {
          "output_type": "execute_result",
          "data": {
            "text/plain": [
              "complex"
            ]
          },
          "metadata": {},
          "execution_count": 6
        }
      ]
    },
    {
      "cell_type": "code",
      "source": [
        "grades=[10,20,30,40,50,\"Jerril\", \"Alex\" , \"Sharon\" , \"Pranav\" , \"Jomy\"]"
      ],
      "metadata": {
        "id": "LXeF0MTI5rWU"
      },
      "execution_count": 7,
      "outputs": []
    },
    {
      "cell_type": "code",
      "source": [
        "type(grades)"
      ],
      "metadata": {
        "colab": {
          "base_uri": "https://localhost:8080/"
        },
        "id": "lVfyP_fC6Th8",
        "outputId": "90fe7a31-2eec-4782-d841-5299fe7757d3"
      },
      "execution_count": 8,
      "outputs": [
        {
          "output_type": "execute_result",
          "data": {
            "text/plain": [
              "list"
            ]
          },
          "metadata": {},
          "execution_count": 8
        }
      ]
    },
    {
      "cell_type": "code",
      "source": [
        "grade=[\"x\" , \"y\" , \"z\"]\n",
        "grade[0]"
      ],
      "metadata": {
        "colab": {
          "base_uri": "https://localhost:8080/",
          "height": 35
        },
        "id": "yKeYttrP8FbL",
        "outputId": "9713a48e-fd27-47da-a1cd-efebaba8e89d"
      },
      "execution_count": 12,
      "outputs": [
        {
          "output_type": "execute_result",
          "data": {
            "text/plain": [
              "'x'"
            ],
            "application/vnd.google.colaboratory.intrinsic+json": {
              "type": "string"
            }
          },
          "metadata": {},
          "execution_count": 12
        }
      ]
    },
    {
      "cell_type": "code",
      "source": [
        "cow=['empty','life','eyes','tear']\n",
        "kolavari=cow+grade\n",
        "print(kolavari)"
      ],
      "metadata": {
        "colab": {
          "base_uri": "https://localhost:8080/"
        },
        "id": "I7TAD6SH9QB2",
        "outputId": "76eda539-77f1-4987-94de-8ff48f3e0c56"
      },
      "execution_count": 18,
      "outputs": [
        {
          "output_type": "stream",
          "name": "stdout",
          "text": [
            "['empty', 'life', 'eyes', 'tear', 'empty', 'life', 'eyes', 'tear']\n"
          ]
        }
      ]
    },
    {
      "cell_type": "code",
      "source": [
        "grade=['x','y','x']\n",
        "grade[0]\n"
      ],
      "metadata": {
        "colab": {
          "base_uri": "https://localhost:8080/",
          "height": 35
        },
        "id": "PFBGuV2WBOfF",
        "outputId": "85457aeb-9fef-4498-e9fe-b266364a126d"
      },
      "execution_count": 22,
      "outputs": [
        {
          "output_type": "execute_result",
          "data": {
            "text/plain": [
              "'x'"
            ],
            "application/vnd.google.colaboratory.intrinsic+json": {
              "type": "string"
            }
          },
          "metadata": {},
          "execution_count": 22
        }
      ]
    },
    {
      "cell_type": "code",
      "source": [
        "names=['Ram','Shyam','Sita','Tina','Shiva']\n",
        "grade=['abc','efg','hij','klm','nop']\n",
        "print(grade+names)\n",
        "grade.pop()\n",
        "print(grade)\n",
        "grade.pop(1)\n"
      ],
      "metadata": {
        "colab": {
          "base_uri": "https://localhost:8080/",
          "height": 70
        },
        "id": "qiipDs63DEKz",
        "outputId": "3cd210f1-51ba-49b6-a3c7-d8e349936484"
      },
      "execution_count": 20,
      "outputs": [
        {
          "output_type": "stream",
          "name": "stdout",
          "text": [
            "['abc', 'efg', 'hij', 'klm', 'nop', 'Ram', 'Shyam', 'Sita', 'Tina', 'Shiva']\n",
            "['abc', 'efg', 'hij', 'klm']\n"
          ]
        },
        {
          "output_type": "execute_result",
          "data": {
            "text/plain": [
              "'efg'"
            ],
            "application/vnd.google.colaboratory.intrinsic+json": {
              "type": "string"
            }
          },
          "metadata": {},
          "execution_count": 20
        }
      ]
    },
    {
      "cell_type": "code",
      "source": [
        "\n",
        "\n",
        "letter=['M','S','A','Z','G']\n",
        "letter.append('O')\n",
        "print(letter)\n",
        "letter.sort()\n",
        "print(letter)\n",
        "letter.reverse()\n",
        "print(letter)"
      ],
      "metadata": {
        "colab": {
          "base_uri": "https://localhost:8080/"
        },
        "id": "bg_-Se96DGRg",
        "outputId": "591aaf5f-b2da-4ec0-ac55-7b7a20c5115c"
      },
      "execution_count": 21,
      "outputs": [
        {
          "output_type": "stream",
          "name": "stdout",
          "text": [
            "['M', 'S', 'A', 'Z', 'G', 'O']\n",
            "['A', 'G', 'M', 'O', 'S', 'Z']\n",
            "['Z', 'S', 'O', 'M', 'G', 'A']\n"
          ]
        }
      ]
    },
    {
      "cell_type": "code",
      "source": [
        "tuple_items=(10,30,50,70,80,75.5,50.8,'mrbrit' , 'wanna' , 'be' , 'my' , 'chammak' , 'challo' , 'oo')"
      ],
      "metadata": {
        "id": "HYeRNwzvDH3A"
      },
      "execution_count": 23,
      "outputs": []
    },
    {
      "cell_type": "code",
      "source": [
        "type(tuple_items)"
      ],
      "metadata": {
        "colab": {
          "base_uri": "https://localhost:8080/"
        },
        "id": "hdVe39XSEadz",
        "outputId": "eb9f0ee6-9220-4064-bf61-5f21c1fb9172"
      },
      "execution_count": 24,
      "outputs": [
        {
          "output_type": "execute_result",
          "data": {
            "text/plain": [
              "tuple"
            ]
          },
          "metadata": {},
          "execution_count": 24
        }
      ]
    },
    {
      "cell_type": "code",
      "source": [
        "h={1,2,3,4,55,44,33,66}"
      ],
      "metadata": {
        "id": "QSK_l9-LFIfL"
      },
      "execution_count": 25,
      "outputs": []
    },
    {
      "cell_type": "code",
      "source": [
        "type(h)"
      ],
      "metadata": {
        "colab": {
          "base_uri": "https://localhost:8080/"
        },
        "id": "P6K1SrnKF0rX",
        "outputId": "661beaff-d8dd-4ab0-96d5-28b176a93f75"
      },
      "execution_count": 26,
      "outputs": [
        {
          "output_type": "execute_result",
          "data": {
            "text/plain": [
              "set"
            ]
          },
          "metadata": {},
          "execution_count": 26
        }
      ]
    },
    {
      "cell_type": "code",
      "source": [
        "marks=[10,20,40,30,70,50,90]\n",
        "set1=set(marks)\n",
        "print(set1)"
      ],
      "metadata": {
        "colab": {
          "base_uri": "https://localhost:8080/"
        },
        "id": "YHQ1Y8jkF2CO",
        "outputId": "99877b21-51eb-462a-87ba-55887db360ff"
      },
      "execution_count": 27,
      "outputs": [
        {
          "output_type": "stream",
          "name": "stdout",
          "text": [
            "{70, 40, 10, 50, 20, 90, 30}\n"
          ]
        }
      ]
    },
    {
      "cell_type": "code",
      "source": [
        "dict= {'name': 'Vysakh' , 'Mobile no.' : 'xxxx' , 'Address' : 'Kerala' , 'College': 'Rajagiri'}"
      ],
      "metadata": {
        "id": "2PGRUeLQHNZj"
      },
      "execution_count": 29,
      "outputs": []
    },
    {
      "cell_type": "code",
      "source": [
        "type(dict)"
      ],
      "metadata": {
        "colab": {
          "base_uri": "https://localhost:8080/"
        },
        "id": "vZYc0e9fJBDx",
        "outputId": "c2632cd9-0ab1-430e-b9ad-b9d0609571b1"
      },
      "execution_count": 30,
      "outputs": [
        {
          "output_type": "execute_result",
          "data": {
            "text/plain": [
              "dict"
            ]
          },
          "metadata": {},
          "execution_count": 30
        }
      ]
    },
    {
      "cell_type": "code",
      "source": [
        "Student={'name': 'Vysakh' , 'Mobile no.' :12345}\n",
        "Student['name']=\"Mary\"\n",
        "print(Student)"
      ],
      "metadata": {
        "colab": {
          "base_uri": "https://localhost:8080/"
        },
        "id": "WiEJMxhLJMVk",
        "outputId": "4de2a8a8-5ce8-4995-ba27-0b59400ed233"
      },
      "execution_count": 36,
      "outputs": [
        {
          "output_type": "stream",
          "name": "stdout",
          "text": [
            "{'name': 'Mary', 'Mobile no.': 12345}\n"
          ]
        }
      ]
    },
    {
      "cell_type": "code",
      "source": [
        "def add(x,y):\n",
        "  return(x+y)\n",
        "add(2,3)"
      ],
      "metadata": {
        "colab": {
          "base_uri": "https://localhost:8080/"
        },
        "id": "SEoN3_YvLEqr",
        "outputId": "cf822901-f1a6-4212-cec3-c2555bb02f1f"
      },
      "execution_count": 37,
      "outputs": [
        {
          "output_type": "execute_result",
          "data": {
            "text/plain": [
              "5"
            ]
          },
          "metadata": {},
          "execution_count": 37
        }
      ]
    },
    {
      "cell_type": "code",
      "source": [],
      "metadata": {
        "id": "FqJ1dpQBMXUz"
      },
      "execution_count": null,
      "outputs": []
    }
  ]
}